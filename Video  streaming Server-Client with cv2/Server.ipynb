{
 "cells": [
  {
   "cell_type": "code",
   "execution_count": null,
   "id": "c57ec99c",
   "metadata": {},
   "outputs": [],
   "source": [
    "import cv2\n",
    "import socket\n",
    "import struct\n",
    "import pickle"
   ]
  },
  {
   "cell_type": "code",
   "execution_count": null,
   "id": "529d51b7",
   "metadata": {},
   "outputs": [],
   "source": [
    "server_socket = socket.socket(socket.AF_INET, socket.SOCK_STREAM)\n",
    "server_socket.bind(('0.0.0.0', 5000))\n",
    "server_socket.listen(1)\n",
    "\n",
    "print(\"Waiting for a connection...\")\n",
    "connection, client_address = server_socket.accept()\n",
    "print(\"Connection established with:\", client_address)\n",
    "\n",
    "camera = cv2.VideoCapture(0)  # Replace 0 with the stream URL of the first user\n",
    "\n",
    "try:\n",
    "    while True:\n",
    "        ret, frame = camera.read()\n",
    "        data = pickle.dumps(frame)\n",
    "        message_size = struct.pack(\"L\", len(data))\n",
    "        connection.sendall(message_size + data)\n",
    "except KeyboardInterrupt:\n",
    "    connection.close()\n",
    "    server_socket.close()\n",
    "    camera.release()\n",
    "    cv2.destroyAllWindows()\n"
   ]
  },
  {
   "cell_type": "code",
   "execution_count": null,
   "id": "07a79b1a",
   "metadata": {},
   "outputs": [],
   "source": []
  }
 ],
 "metadata": {
  "kernelspec": {
   "display_name": "Python 3 (ipykernel)",
   "language": "python",
   "name": "python3"
  },
  "language_info": {
   "codemirror_mode": {
    "name": "ipython",
    "version": 3
   },
   "file_extension": ".py",
   "mimetype": "text/x-python",
   "name": "python",
   "nbconvert_exporter": "python",
   "pygments_lexer": "ipython3",
   "version": "3.11.3"
  }
 },
 "nbformat": 4,
 "nbformat_minor": 5
}
