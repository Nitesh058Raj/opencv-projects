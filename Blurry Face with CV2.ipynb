{
 "cells": [
  {
   "cell_type": "code",
   "execution_count": 9,
   "id": "739982c1",
   "metadata": {},
   "outputs": [],
   "source": [
    "import cv2\n",
    "import matplotlib.pyplot as plt"
   ]
  },
  {
   "cell_type": "code",
   "execution_count": 10,
   "id": "d24b13f7",
   "metadata": {},
   "outputs": [],
   "source": [
    "model = cv2.CascadeClassifier('Resources/haarcascade_frontalface_default.xml')"
   ]
  },
  {
   "cell_type": "code",
   "execution_count": 11,
   "id": "9224e546",
   "metadata": {},
   "outputs": [],
   "source": [
    "def check_face_and_blur(pic):\n",
    "    pic2=pic\n",
    "    faces = model.detectMultiScale(pic,1.3,5)\n",
    "    if faces != ():\n",
    "        x1 = faces[0][0]\n",
    "        y1 = faces[0][1]\n",
    "        w = faces[0][2]\n",
    "        h = faces[0][3]\n",
    "        \n",
    "        # Blur the face\n",
    "        sigmaX = 0\n",
    "        kernel_size = (25, 25)\n",
    "        pic = cv2.GaussianBlur(pic, kernel_size, sigmaX)\n",
    "        \n",
    "        # putting text\n",
    "        pic = cv2.putText(pic,\n",
    "                          \"Face detected\",\n",
    "                          (x1-20,y1-20),\n",
    "                          cv2.FONT_HERSHEY_COMPLEX_SMALL,\n",
    "                          1,(25,0,255),1)\n",
    "        \n",
    "        # Making Rectangle around Face\n",
    "        pic = cv2.rectangle(pic, \n",
    "                            (x1,y1), \n",
    "                            (x1+w,y1+h),\n",
    "                            [0,255,0],2,1)\n",
    "        # Making another Rectangle around Face\n",
    "        pic = cv2.rectangle(pic, \n",
    "                            (x1-10,y1-10), \n",
    "                            (x1+w+10,y1+h+10),\n",
    "                            [0,255,255],2,1)\n",
    "        return pic\n",
    "    else:\n",
    "        return pic2"
   ]
  },
  {
   "cell_type": "code",
   "execution_count": 12,
   "id": "1d6bf51d",
   "metadata": {},
   "outputs": [],
   "source": [
    "def video_stream():\n",
    "    cap = cv2.VideoCapture(0)\n",
    "    #cap = cv2.VideoCapture(\"http://192.168.43.1:8080/video\")\n",
    "    while True:\n",
    "        _, img = cap.read()\n",
    "        img = cv2.resize(img, (640,480))\n",
    "        img = check_face_and_blur(img)\n",
    "        cv2.imshow('Face',img) \n",
    "        if cv2.waitKey(1)&0xFF == ord('q'):\n",
    "            break\n",
    "    cv2.destroyAllWindows()\n",
    "    cap.release()"
   ]
  },
  {
   "cell_type": "code",
   "execution_count": 13,
   "id": "3c0d36c5",
   "metadata": {},
   "outputs": [],
   "source": [
    "video_stream()"
   ]
  },
  {
   "cell_type": "code",
   "execution_count": null,
   "id": "32de5462",
   "metadata": {},
   "outputs": [],
   "source": []
  },
  {
   "cell_type": "code",
   "execution_count": null,
   "id": "fc40e91a",
   "metadata": {},
   "outputs": [],
   "source": []
  }
 ],
 "metadata": {
  "kernelspec": {
   "display_name": "Python 3 (ipykernel)",
   "language": "python",
   "name": "python3"
  },
  "language_info": {
   "codemirror_mode": {
    "name": "ipython",
    "version": 3
   },
   "file_extension": ".py",
   "mimetype": "text/x-python",
   "name": "python",
   "nbconvert_exporter": "python",
   "pygments_lexer": "ipython3",
   "version": "3.11.3"
  }
 },
 "nbformat": 4,
 "nbformat_minor": 5
}
